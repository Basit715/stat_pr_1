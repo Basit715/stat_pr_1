{
 "cells": [
  {
   "cell_type": "markdown",
   "metadata": {},
   "source": [
    "# z-test"
   ]
  },
  {
   "cell_type": "markdown",
   "metadata": {},
   "source": [
    "problem statement: A school claim the student are more intelligent than the average school\n",
    "A sample of 50 students was taken and the average of 110 was found with the population avaerage equals to 100 and standard \n",
    "deviation equal to 15. confidence interval is 95%"
   ]
  },
  {
   "cell_type": "code",
   "execution_count": 1,
   "metadata": {},
   "outputs": [],
   "source": [
    "import numpy as np\n",
    "import scipy.stats as stat"
   ]
  },
  {
   "cell_type": "code",
   "execution_count": 2,
   "metadata": {},
   "outputs": [],
   "source": [
    "sample_mean = 110\n",
    "population_mean = 100\n",
    "standard_deviation = 15\n",
    "n = 50\n",
    "alpha = 0.05\n",
    "confidence_interval = 1-alpha"
   ]
  },
  {
   "cell_type": "code",
   "execution_count": 3,
   "metadata": {},
   "outputs": [
    {
     "data": {
      "text/plain": [
       "4.714045207910317"
      ]
     },
     "execution_count": 3,
     "metadata": {},
     "output_type": "execute_result"
    }
   ],
   "source": [
    "z_score = (sample_mean-population_mean)/(standard_deviation/np.sqrt(n))\n",
    "z_score"
   ]
  },
  {
   "cell_type": "code",
   "execution_count": 4,
   "metadata": {},
   "outputs": [
    {
     "data": {
      "text/plain": [
       "1.6448536269514722"
      ]
     },
     "execution_count": 4,
     "metadata": {},
     "output_type": "execute_result"
    }
   ],
   "source": [
    "critical_value = stat.norm.ppf(confidence_interval)\n",
    "critical_value"
   ]
  },
  {
   "cell_type": "code",
   "execution_count": 5,
   "metadata": {},
   "outputs": [
    {
     "name": "stdout",
     "output_type": "stream",
     "text": [
      "we reject the null hypothesis\n"
     ]
    }
   ],
   "source": [
    "if z_score > critical_value:\n",
    "     print(\"we reject the null hypothesis\")\n",
    "else:\n",
    "     print(\"we fail to reject the null hypothesis\")"
   ]
  },
  {
   "cell_type": "code",
   "execution_count": 6,
   "metadata": {},
   "outputs": [],
   "source": [
    "p_value = 1-.9999966"
   ]
  },
  {
   "cell_type": "code",
   "execution_count": 7,
   "metadata": {},
   "outputs": [
    {
     "name": "stdout",
     "output_type": "stream",
     "text": [
      "we reject the null hypothesis\n"
     ]
    }
   ],
   "source": [
    "if p_value < alpha:\n",
    "     print(\"we reject the null hypothesis\")\n",
    "else:\n",
    "     print(\"we fail to reject the null hypothesis\")"
   ]
  },
  {
   "cell_type": "markdown",
   "metadata": {},
   "source": [
    "problem statement 2: The average heights of all students in a city is 168cm with standard deviation equals to 3.9\n",
    "A doctor believes the mean to be different. He measured the heights of 36 and found the average height to be 169.5 cm\n",
    "a. state the null and alternative hypothesis\n",
    "b. At 95% confidence interval, is there enough evidence to reject the null hypothesis"
   ]
  },
  {
   "cell_type": "code",
   "execution_count": 8,
   "metadata": {},
   "outputs": [],
   "source": [
    "population_mean = 168\n",
    "population_standard_deviation = 3.9\n",
    "n = 36\n",
    "sample_mean = 168.9\n",
    "alpha = 0.05\n",
    "confidence_interval = 1-alpha\n"
   ]
  },
  {
   "cell_type": "code",
   "execution_count": 9,
   "metadata": {},
   "outputs": [
    {
     "data": {
      "text/plain": [
       "1.3846153846153932"
      ]
     },
     "execution_count": 9,
     "metadata": {},
     "output_type": "execute_result"
    }
   ],
   "source": [
    "ho = \"mean is 168\"\n",
    "ha = \"mean is different\"\n",
    "\n",
    "\n",
    "z_test = (sample_mean-population_mean)/(population_standard_deviation/np.sqrt(n))\n",
    "z_test\n",
    "\n"
   ]
  },
  {
   "cell_type": "code",
   "execution_count": 10,
   "metadata": {},
   "outputs": [],
   "source": [
    "critical_value = stat.norm.ppf(1-alpha/2)\n"
   ]
  },
  {
   "cell_type": "code",
   "execution_count": 11,
   "metadata": {},
   "outputs": [
    {
     "name": "stdout",
     "output_type": "stream",
     "text": [
      "we reject the null hypothesis\n"
     ]
    }
   ],
   "source": [
    "if z_test < critical_value or z_test > critical_value:\n",
    "     print(\"we reject the null hypothesis\")\n",
    "else:\n",
    "     print(\"we fail to reject the null hypothesis\")"
   ]
  },
  {
   "cell_type": "code",
   "execution_count": 12,
   "metadata": {},
   "outputs": [
    {
     "data": {
      "text/plain": [
       "array([ 6.81768497e-01,  1.33564107e+00,  7.75382569e-01, -8.83903779e-01,\n",
       "        3.47682975e-01, -5.28294073e-01,  1.13666908e+00, -2.34044369e-01,\n",
       "        1.18506356e+00,  3.05972780e-01,  4.64571767e-01,  2.96778647e-01,\n",
       "        7.45817536e-01, -1.01063721e+00, -8.15856133e-01, -9.93834788e-01,\n",
       "        1.22890421e+00,  3.01417429e-01,  2.68217307e+00,  9.71967971e-01,\n",
       "        1.86991732e-01,  1.03723676e+00, -2.14799703e+00, -8.75966915e-01,\n",
       "       -2.87510631e-01, -5.84589453e-01, -2.07376214e+00,  5.33728095e-01,\n",
       "        5.26759169e-01,  2.87018683e-02,  1.82138283e+00, -1.21944046e+00,\n",
       "       -1.85858857e+00, -8.17193760e-01, -9.65958590e-02,  2.18836779e+00,\n",
       "        2.00661135e-01,  2.50096202e-02, -2.20893703e-02, -6.24070916e-01,\n",
       "        4.13552818e-01,  4.21028774e-01,  1.49797351e-02, -1.93331089e+00,\n",
       "       -1.37731907e+00, -7.39920235e-01,  2.24506115e-02, -3.16379528e-01,\n",
       "        2.93771163e-02,  6.76004496e-01,  1.16026236e+00, -1.69865558e+00,\n",
       "        3.86473916e-01,  2.98106604e-01, -1.06815740e-02, -5.26591479e-01,\n",
       "       -2.23784259e+00, -5.98243386e-01, -8.61011477e-01, -3.35470145e-01,\n",
       "        2.09186821e-01, -1.07145160e+00, -3.03946534e-01, -4.71101181e-01,\n",
       "       -1.39903064e-01,  4.27699222e-01,  2.57777996e-02,  2.60131115e-01,\n",
       "       -1.36948377e-01,  1.68281161e-01, -3.34308360e-01,  2.11248308e+00,\n",
       "        5.46400675e-02,  8.20294888e-01,  1.25417172e+00, -4.51062128e-01,\n",
       "        2.85441358e+00,  1.72701916e-01,  5.64912386e-01,  1.09703970e+00,\n",
       "        2.75747045e-01, -1.40872861e+00, -4.53572027e-03, -2.28308952e-01,\n",
       "       -1.95509651e+00,  7.91932339e-01,  2.99857019e-01,  2.29811885e+00,\n",
       "       -8.58401783e-01,  6.11270927e-01, -2.84969374e-01, -3.43318286e-01,\n",
       "        8.11100037e-01,  1.61750938e+00, -1.46612712e+00, -5.77209954e-02,\n",
       "       -7.65982844e-01,  9.11961191e-01, -5.21895466e-01, -2.50247944e-01,\n",
       "        8.26062070e-01, -7.44096430e-01,  7.55440643e-01, -3.21274120e-01,\n",
       "       -9.38359407e-01,  4.71997953e-01,  4.36771731e-01, -6.51191212e-01,\n",
       "        2.91878268e-01, -1.53555626e-01,  8.93984965e-01, -5.06058122e-01,\n",
       "       -6.54017829e-01, -8.17516488e-01, -3.93798297e+00,  1.70955547e+00,\n",
       "       -3.54623149e-01, -8.17331244e-01, -2.38011997e+00,  2.43095159e-01,\n",
       "        2.00695451e+00, -3.02163096e-01, -7.95374966e-01, -6.69157519e-01,\n",
       "        3.87674362e-01, -1.82511342e+00, -5.58594026e-01,  1.48425406e+00,\n",
       "        8.20135845e-01, -1.43403465e+00,  2.83292963e-01,  1.06216450e+00,\n",
       "        2.69950240e-01, -1.34108799e-02,  2.98174844e-01,  6.52314752e-01,\n",
       "       -1.89892773e+00, -4.49567703e-02,  1.82034418e+00,  1.49865212e+00,\n",
       "       -4.81663557e-01,  3.25993439e-01,  9.19023973e-01, -1.21203022e-02,\n",
       "       -1.48808278e+00,  1.06823878e+00, -1.89557262e-01, -1.14280262e+00,\n",
       "       -1.75948563e+00,  1.34014447e+00,  1.78383130e+00, -2.12006383e+00,\n",
       "        4.38850430e-01, -1.65248624e-01, -5.52695033e-01, -1.81655407e-01,\n",
       "       -2.23289238e+00,  9.58923714e-01,  1.10180517e+00, -4.82568778e-01,\n",
       "       -1.04306635e+00, -1.17435058e-01,  1.24531595e+00,  7.51706948e-01,\n",
       "       -1.82092382e+00,  1.50329383e+00, -1.10683116e+00,  2.01215763e-01,\n",
       "       -2.17823988e+00, -1.22551765e+00, -2.33351568e-01, -1.39314340e-01,\n",
       "        4.69307496e-01, -5.74587190e-01,  5.74913807e-01, -6.17892787e-02,\n",
       "        1.44989027e-01, -1.91211083e-01,  7.46250107e-01, -8.58958409e-01,\n",
       "        1.11502733e+00, -8.52766769e-01,  1.03884590e+00, -1.06424034e+00,\n",
       "       -5.99614986e-01, -4.62872135e-02, -9.44261426e-01,  5.20908941e-01,\n",
       "       -5.05429171e-02,  1.04348756e+00, -4.58783555e-02,  9.36401666e-01,\n",
       "        9.98294044e-01, -6.00252761e-01, -1.18285779e+00,  1.16736249e+00,\n",
       "       -4.90443386e-01,  2.14168311e-01, -1.71269970e+00, -3.62232811e-01,\n",
       "        2.58089305e-01,  9.51518125e-01, -6.65640792e-01, -6.07033306e-01,\n",
       "       -6.09543094e-01,  4.07302353e-01, -1.61348310e-01, -2.46256476e+00,\n",
       "        8.13509197e-01,  4.24224330e-01,  2.84998805e+00, -2.19817706e+00,\n",
       "        1.66573354e+00, -1.03344061e+00,  9.14583744e-01, -1.61319214e-01,\n",
       "       -1.02539338e+00, -4.43392735e-02, -6.92995567e-01,  1.01191655e+00,\n",
       "        5.36356655e-01, -1.08700387e+00,  1.17780883e+00,  6.22414345e-01,\n",
       "       -1.98771075e-01,  2.05723618e+00, -4.94185925e-01,  1.87853048e-01,\n",
       "        9.00788517e-02,  1.86258322e+00,  3.27179685e-01,  5.64287769e-01,\n",
       "        1.24258763e+00, -5.25755651e-01,  1.40535001e+00, -1.87284944e-01,\n",
       "       -1.37659780e+00, -1.12098120e+00, -4.74892249e-01, -3.97369399e-01,\n",
       "        1.00936607e+00,  1.87014358e+00, -1.17135845e+00, -9.24496206e-01,\n",
       "        3.71333562e-01, -4.63329640e-01,  5.02538778e-01,  4.36803043e-01,\n",
       "        2.66855705e-02, -8.94684492e-01,  5.49173167e-01, -1.84908325e+00,\n",
       "        4.74250616e-01, -1.61593469e+00, -2.79134492e-01,  4.45403174e-01,\n",
       "        9.13267048e-01,  7.34960736e-01,  1.85275957e+00,  1.51177170e-01,\n",
       "        3.80142237e-01, -8.67146040e-01, -1.98363834e-01,  6.15321300e-02,\n",
       "       -4.63183407e-01, -1.73615523e-01, -3.72489742e-01,  3.51008831e-01,\n",
       "        2.47271243e-01,  1.03451496e+00, -3.48039856e-01,  6.53242196e-01,\n",
       "       -2.35448971e-01, -9.16183290e-01,  2.04998326e-01,  5.62860405e-01,\n",
       "        7.34853111e-02, -1.27392033e+00, -3.60021905e-01, -4.32748833e-01,\n",
       "       -4.73754991e-01,  2.45872054e-01, -1.99085403e+00, -4.26244522e-01,\n",
       "       -6.26263966e-01, -9.15906004e-01,  3.25317176e-01, -1.82205316e-01,\n",
       "       -1.15379114e-01,  5.30791342e-01, -6.69318759e-01,  2.58061946e-01,\n",
       "        2.79400130e-02, -1.42141634e+00, -2.77264051e-01, -1.48360316e+00,\n",
       "        1.16955713e+00, -1.38358266e+00,  2.97371839e-01,  5.93450474e-01,\n",
       "        3.52527006e-01, -2.23610881e+00, -6.17296361e-02,  5.24905410e-01,\n",
       "       -2.04140212e+00, -2.30637932e-01,  1.96663174e-01, -7.55707612e-01,\n",
       "        1.06669646e+00, -2.32014350e-01,  1.66423990e+00,  6.33431617e-01,\n",
       "        1.74466335e+00, -4.09517659e-01,  3.33916176e-01, -2.39065036e-01,\n",
       "       -8.21680334e-02, -8.44453976e-01, -1.11985920e+00, -1.51955596e+00,\n",
       "       -1.83684153e+00, -8.25440019e-01, -1.32037185e-02,  8.00758780e-01,\n",
       "        1.17003652e+00, -3.94616836e-02, -2.27658623e-01, -6.43440119e-01,\n",
       "        1.80070166e+00, -6.64318105e-02,  9.86176836e-01,  7.66676358e-02,\n",
       "       -1.77352387e+00,  8.82864208e-01,  1.05532565e+00,  1.37634862e+00,\n",
       "        2.21278761e-01, -1.14530179e+00, -5.82629341e-01,  5.12151101e-01,\n",
       "        1.22593462e+00,  2.45071277e-01,  1.09792264e+00,  2.32650745e-01,\n",
       "        1.32647355e-02,  2.12570316e+00, -9.35769541e-01, -4.42362278e-01,\n",
       "        1.74007862e-01, -2.34374855e+00, -1.01312444e+00,  2.47226918e-01,\n",
       "        1.34606378e+00, -3.58296412e-01,  2.13457597e-01, -4.15961946e-01,\n",
       "        1.15348688e+00, -3.12658916e-01, -4.98204504e-01,  3.20787365e-01,\n",
       "       -1.13986192e+00, -3.02438373e-01, -1.21733329e+00, -4.99924344e-01,\n",
       "        8.58735246e-01, -1.30766745e+00,  7.95934240e-01,  1.13165714e+00,\n",
       "       -5.78283330e-01, -1.11403618e-01, -1.72219258e+00,  1.17068812e+00,\n",
       "        1.26151230e+00, -2.46321209e-01,  1.01109919e-01, -1.08851780e+00,\n",
       "        5.51045518e-01,  1.82355439e-01, -8.24676912e-01, -2.22777952e-01,\n",
       "       -7.82721131e-01, -1.00607073e+00, -8.29826094e-01,  6.58490479e-01,\n",
       "       -1.46278688e+00, -1.29844523e+00,  1.65207819e+00, -4.61687811e-01,\n",
       "       -1.14634682e+00, -1.01809469e-01,  1.23587767e+00, -2.08407009e-01,\n",
       "        3.51257660e-01, -7.47231695e-01, -1.20222892e+00,  2.01352468e-01,\n",
       "        1.39375470e+00, -1.20428446e-01,  5.28589733e-01,  4.69592828e-01,\n",
       "       -9.35374973e-01, -1.36298159e+00,  7.40927427e-01,  7.69150970e-01,\n",
       "        1.35687541e+00,  1.07256429e+00, -3.89444855e-01, -3.99373198e-01,\n",
       "       -9.28236727e-02,  7.98397001e-01, -9.59048201e-01,  8.85550100e-02,\n",
       "       -1.10644706e+00,  1.00549630e+00, -3.38633725e-02, -3.15111613e-01,\n",
       "        4.74588886e-01,  2.65193309e-01, -2.47692620e-01, -1.39227641e+00,\n",
       "       -1.57651693e+00,  2.54630581e-01,  4.66135259e-01, -1.52667119e+00,\n",
       "       -2.78542024e-01, -1.76912973e-01,  1.24404418e+00,  3.76841377e-01,\n",
       "        3.23607074e-01,  6.07574228e-02,  7.97662021e-02, -2.48072171e-01,\n",
       "       -6.10755581e-01, -2.95020600e+00,  1.01308672e+00,  1.45842222e-01,\n",
       "       -2.23037152e-01,  3.76255111e-01,  9.77284837e-02, -5.91684971e-01,\n",
       "        1.66263644e+00, -2.40621298e+00, -1.06679097e+00,  1.87243019e+00,\n",
       "       -4.22835409e-01, -1.57807208e+00, -3.45941523e-01,  1.71863094e+00,\n",
       "       -2.90084079e-01, -1.09867677e+00,  1.67594963e+00,  1.31822136e+00,\n",
       "       -3.03282711e-02, -5.26345651e-01, -7.27390237e-01, -7.37304282e-01,\n",
       "        1.73449026e+00,  9.64659300e-01,  9.14451031e-01,  7.93318301e-01,\n",
       "       -1.05354063e+00, -3.81426528e-01,  3.16062501e-01, -8.41210580e-01,\n",
       "       -8.42445660e-01, -6.47571786e-01, -6.30118743e-01,  2.56497739e-01,\n",
       "        2.03646704e-01,  1.14217596e+00,  3.77784954e-01,  9.06381139e-01,\n",
       "        1.25664529e-01,  1.26581819e+00, -1.43315121e+00, -7.88888237e-01,\n",
       "       -5.71492110e-01, -9.78871650e-01, -7.54090296e-01,  2.17394059e-03,\n",
       "       -1.63438945e+00,  9.19542577e-01, -6.74270363e-01, -6.29820911e-01,\n",
       "        1.35177844e-01, -4.27195463e-01, -7.41416911e-01, -2.58621584e-01,\n",
       "        1.91704174e+00, -8.41560661e-01,  6.06008670e-01,  1.00014259e+00,\n",
       "        5.48569916e-01, -8.33029528e-01, -4.91534147e-01, -1.02649120e+00,\n",
       "        1.97651530e+00,  3.72493834e-01, -6.48726809e-01, -6.68324687e-01])"
      ]
     },
     "execution_count": 12,
     "metadata": {},
     "output_type": "execute_result"
    }
   ],
   "source": [
    "from numpy.random import randn\n",
    "my_data = randn(500)\n",
    "my_data\n"
   ]
  },
  {
   "cell_type": "code",
   "execution_count": 13,
   "metadata": {},
   "outputs": [],
   "source": [
    "import seaborn as sns"
   ]
  },
  {
   "cell_type": "code",
   "execution_count": 14,
   "metadata": {},
   "outputs": [
    {
     "data": {
      "text/plain": [
       "<Axes: ylabel='Count'>"
      ]
     },
     "execution_count": 14,
     "metadata": {},
     "output_type": "execute_result"
    },
    {
     "data": {
      "image/png": "[encoded data removed]",
      "text/plain": [
       "<Figure size 640x480 with 1 Axes>"
      ]
     },
     "metadata": {},
     "output_type": "display_data"
    }
   ],
   "source": [
    "sns.histplot(my_data, kde=True)"
   ]
  },
  {
   "cell_type": "code",
   "execution_count": 15,
   "metadata": {},
   "outputs": [
    {
     "data": {
      "text/plain": [
       "NormaltestResult(statistic=2.3427444730115554, pvalue=0.3099413365004774)"
      ]
     },
     "execution_count": 15,
     "metadata": {},
     "output_type": "execute_result"
    }
   ],
   "source": [
    "from scipy import stats\n",
    "stats.normaltest(my_data)"
   ]
  },
  {
   "cell_type": "code",
   "execution_count": 16,
   "metadata": {},
   "outputs": [],
   "source": [
    "sample_mean_iq = 110\n",
    "alpha = 0.05\n",
    "confidence_interval = 0.95\n",
    "mean_of_population = 100\n",
    "standard_deviation = 15\n",
    "\n"
   ]
  },
  {
   "cell_type": "code",
   "execution_count": 17,
   "metadata": {},
   "outputs": [],
   "source": [
    "from statsmodels.stats.weightstats import ztest\n"
   ]
  },
  {
   "cell_type": "markdown",
   "metadata": {},
   "source": [
    "# t-test"
   ]
  },
  {
   "cell_type": "code",
   "execution_count": 18,
   "metadata": {},
   "outputs": [],
   "source": [
    "# one sample t-test(with respect to one independant sample)\n",
    "# two sample t-test(with respect to two independant sample)\n",
    "# paired t-test(two sample from the same population at different time stamps)\n",
    "\n"
   ]
  },
  {
   "cell_type": "code",
   "execution_count": 19,
   "metadata": {},
   "outputs": [
    {
     "data": {
      "text/plain": [
       "27.75"
      ]
     },
     "execution_count": 19,
     "metadata": {},
     "output_type": "execute_result"
    }
   ],
   "source": [
    "my_cricket_score = [22,38,19,15,48,11,10,49,47,38,10,25,46,10,21,24,29,36,32,25]\n",
    "np.mean(my_cricket_score)"
   ]
  },
  {
   "cell_type": "code",
   "execution_count": 20,
   "metadata": {},
   "outputs": [],
   "source": [
    "# null_hypothesis = population_mean =  sample_mean should be equal to 27.75"
   ]
  },
  {
   "cell_type": "code",
   "execution_count": 21,
   "metadata": {},
   "outputs": [],
   "source": [
    "import scipy\n",
    "result = scipy.stats.ttest_1samp(my_cricket_score, 26)"
   ]
  },
  {
   "cell_type": "code",
   "execution_count": 22,
   "metadata": {},
   "outputs": [],
   "source": [
    "p_value = result[1]"
   ]
  },
  {
   "cell_type": "code",
   "execution_count": 23,
   "metadata": {},
   "outputs": [
    {
     "name": "stdout",
     "output_type": "stream",
     "text": [
      "we fail to reject the null hypothesis\n"
     ]
    }
   ],
   "source": [
    "if p_value <= 0.05:\n",
    "     print(\"we reject the null hypothesis\")\n",
    "else:\n",
    "     print(\"we fail to reject the null hypothesis\")"
   ]
  },
  {
   "cell_type": "markdown",
   "metadata": {},
   "source": [
    "# two sample t-test"
   ]
  },
  {
   "cell_type": "code",
   "execution_count": 24,
   "metadata": {},
   "outputs": [],
   "source": [
    "my_cricket_score = [22,38,19,15,48,11,10,49,47,38,10,25,46,10,21,24,29,36,25,24]\n",
    "babar_cricket_score = [35,45,23,25,46,46,46,49,49,44,44,49,25,31,25,40,30,20,42,37]"
   ]
  },
  {
   "cell_type": "code",
   "execution_count": 25,
   "metadata": {},
   "outputs": [
    {
     "data": {
      "text/plain": [
       "37.55"
      ]
     },
     "execution_count": 25,
     "metadata": {},
     "output_type": "execute_result"
    }
   ],
   "source": [
    "first_sample_mean = np.mean(my_cricket_score)\n",
    "first_sample_mean\n",
    "second_sample_mean = np.mean(babar_cricket_score)\n",
    "second_sample_mean"
   ]
  },
  {
   "cell_type": "code",
   "execution_count": 27,
   "metadata": {},
   "outputs": [
    {
     "data": {
      "text/plain": [
       "27.35"
      ]
     },
     "execution_count": 27,
     "metadata": {},
     "output_type": "execute_result"
    }
   ],
   "source": [
    "first_sample_mean"
   ]
  },
  {
   "cell_type": "code",
   "execution_count": null,
   "metadata": {},
   "outputs": [],
   "source": [
    "# my_null_hypothesis = both the means should be equal"
   ]
  },
  {
   "cell_type": "code",
   "execution_count": 29,
   "metadata": {},
   "outputs": [],
   "source": [
    "import scipy.stats\n",
    "\n",
    "\n",
    "t_stats, p_value = scipy.stats.ttest_ind(my_cricket_score, babar_cricket_score)"
   ]
  },
  {
   "cell_type": "code",
   "execution_count": 30,
   "metadata": {},
   "outputs": [
    {
     "name": "stdout",
     "output_type": "stream",
     "text": [
      "we reject the null hypothesis\n"
     ]
    }
   ],
   "source": [
    "if p_value < 0.05:\n",
    "     print('we reject the null hypothesis')\n",
    "else:\n",
    "     print(\"we fail to reject the null hypothesis\")"
   ]
  },
  {
   "cell_type": "markdown",
   "metadata": {},
   "source": [
    "# paired sample t test"
   ]
  },
  {
   "cell_type": "code",
   "execution_count": 33,
   "metadata": {},
   "outputs": [],
   "source": [
    "import random\n",
    "population = []\n",
    "for i in range(50):\n",
    "     score = random.randint(10,70)\n",
    "     population.append(score)"
   ]
  },
  {
   "cell_type": "code",
   "execution_count": 35,
   "metadata": {},
   "outputs": [
    {
     "data": {
      "text/plain": [
       "50"
      ]
     },
     "execution_count": 35,
     "metadata": {},
     "output_type": "execute_result"
    }
   ],
   "source": [
    "population\n",
    "len(population)"
   ]
  },
  {
   "cell_type": "code",
   "execution_count": 36,
   "metadata": {},
   "outputs": [],
   "source": [
    "my_cricket_score_from_first_inning = np.random.choice(population, size=20)"
   ]
  },
  {
   "cell_type": "code",
   "execution_count": 37,
   "metadata": {},
   "outputs": [],
   "source": [
    "my_cricket_score_from_seccond_inning = np.random.choice(population, size=20)"
   ]
  },
  {
   "cell_type": "code",
   "execution_count": 38,
   "metadata": {},
   "outputs": [
    {
     "data": {
      "text/plain": [
       "array([10, 55, 52, 53, 48, 56, 23, 48, 35, 48, 36, 52, 27, 27, 14, 64, 60,\n",
       "       66, 19, 52])"
      ]
     },
     "execution_count": 38,
     "metadata": {},
     "output_type": "execute_result"
    }
   ],
   "source": [
    "my_cricket_score_from_first_inning"
   ]
  },
  {
   "cell_type": "code",
   "execution_count": 39,
   "metadata": {},
   "outputs": [
    {
     "data": {
      "text/plain": [
       "array([52, 25, 69, 20, 52, 46, 48, 52, 16, 46, 36, 20, 64, 68, 69, 22, 38,\n",
       "       64, 17, 33])"
      ]
     },
     "execution_count": 39,
     "metadata": {},
     "output_type": "execute_result"
    }
   ],
   "source": [
    "my_cricket_score_from_seccond_inning"
   ]
  },
  {
   "cell_type": "code",
   "execution_count": 41,
   "metadata": {},
   "outputs": [
    {
     "data": {
      "text/plain": [
       "42.25"
      ]
     },
     "execution_count": 41,
     "metadata": {},
     "output_type": "execute_result"
    }
   ],
   "source": [
    "np.mean(my_cricket_score_from_first_inning)"
   ]
  },
  {
   "cell_type": "code",
   "execution_count": 42,
   "metadata": {},
   "outputs": [
    {
     "data": {
      "text/plain": [
       "42.85"
      ]
     },
     "execution_count": 42,
     "metadata": {},
     "output_type": "execute_result"
    }
   ],
   "source": [
    "np.mean(my_cricket_score_from_seccond_inning)"
   ]
  },
  {
   "cell_type": "code",
   "execution_count": null,
   "metadata": {},
   "outputs": [],
   "source": [
    "# n_hypothesis = two sample means are equal"
   ]
  },
  {
   "cell_type": "code",
   "execution_count": 40,
   "metadata": {},
   "outputs": [],
   "source": [
    "t_stats, p_value = scipy.stats.ttest_rel(my_cricket_score_from_first_inning, my_cricket_score_from_seccond_inning)"
   ]
  },
  {
   "cell_type": "code",
   "execution_count": 43,
   "metadata": {},
   "outputs": [
    {
     "name": "stdout",
     "output_type": "stream",
     "text": [
      "we fail to reject the null hypothesis\n"
     ]
    }
   ],
   "source": [
    "if p_value < 0.05:\n",
    "     print(\"we reject the null hypothesis\")\n",
    "else:\n",
    "     print(\"we fail to reject the null hypothesis\")"
   ]
  },
  {
   "cell_type": "markdown",
   "metadata": {},
   "source": [
    "# The weight of 25 obese people were taken before enrolling them into nutrition camp.The population mean weight is found \n",
    "# to be 45 kg before starting the camp.After finishing the camp, for the same 25 people, the sample mean was found to be 75\n",
    "# with standard deviation of 25. Did the fitness camp work? "
   ]
  },
  {
   "cell_type": "code",
   "execution_count": 46,
   "metadata": {},
   "outputs": [],
   "source": [
    "n = 25\n",
    "sample_mean = 75\n",
    "sample_standard_deviation = 25\n",
    "population_mean = 45\n",
    "# ho ===> mu=45(sample mean is a true/population mean)\n",
    "# ha ===> mu != 45(sample mean is not a true/population mean)"
   ]
  },
  {
   "cell_type": "code",
   "execution_count": 48,
   "metadata": {},
   "outputs": [
    {
     "data": {
      "text/plain": [
       "6.0"
      ]
     },
     "execution_count": 48,
     "metadata": {},
     "output_type": "execute_result"
    }
   ],
   "source": [
    "t_stats = (sample_mean-population_mean)/(sample_standard_deviation/np.sqrt(n))\n",
    "t_stats"
   ]
  },
  {
   "cell_type": "code",
   "execution_count": 49,
   "metadata": {},
   "outputs": [],
   "source": [
    "df = n-1"
   ]
  },
  {
   "cell_type": "code",
   "execution_count": 50,
   "metadata": {},
   "outputs": [],
   "source": [
    "alpha = 0.05\n",
    "c_i = 0.95"
   ]
  },
  {
   "cell_type": "code",
   "execution_count": 53,
   "metadata": {},
   "outputs": [
    {
     "data": {
      "text/plain": [
       "2.0638985616280205"
      ]
     },
     "execution_count": 53,
     "metadata": {},
     "output_type": "execute_result"
    }
   ],
   "source": [
    "critical_value = stats.t.ppf(1-alpha/2, df)\n",
    "critical_value"
   ]
  },
  {
   "cell_type": "code",
   "execution_count": 54,
   "metadata": {},
   "outputs": [
    {
     "name": "stdout",
     "output_type": "stream",
     "text": [
      "The camp did work\n"
     ]
    }
   ],
   "source": [
    "if t_stats < critical_value or t_stats > critical_value:\n",
    "     print(\"The camp did work\")\n",
    "else:\n",
    "     print(\"The camp did not work\")\n",
    "     "
   ]
  },
  {
   "cell_type": "markdown",
   "metadata": {},
   "source": [
    "# chi square test"
   ]
  },
  {
   "cell_type": "code",
   "execution_count": 55,
   "metadata": {},
   "outputs": [],
   "source": [
    "tips = sns.load_dataset('tips')"
   ]
  },
  {
   "cell_type": "code",
   "execution_count": 56,
   "metadata": {},
   "outputs": [
    {
     "data": {
      "text/html": [
       "<div>\n",
       "<style scoped>\n",
       "    .dataframe tbody tr th:only-of-type {\n",
       "        vertical-align: middle;\n",
       "    }\n",
       "\n",
       "    .dataframe tbody tr th {\n",
       "        vertical-align: top;\n",
       "    }\n",
       "\n",
       "    .dataframe thead th {\n",
       "        text-align: right;\n",
       "    }\n",
       "</style>\n",
       "<table border=\"1\" class=\"dataframe\">\n",
       "  <thead>\n",
       "    <tr style=\"text-align: right;\">\n",
       "      <th></th>\n",
       "      <th>total_bill</th>\n",
       "      <th>tip</th>\n",
       "      <th>sex</th>\n",
       "      <th>smoker</th>\n",
       "      <th>day</th>\n",
       "      <th>time</th>\n",
       "      <th>size</th>\n",
       "    </tr>\n",
       "  </thead>\n",
       "  <tbody>\n",
       "    <tr>\n",
       "      <th>0</th>\n",
       "      <td>16.99</td>\n",
       "      <td>1.01</td>\n",
       "      <td>Female</td>\n",
       "      <td>No</td>\n",
       "      <td>Sun</td>\n",
       "      <td>Dinner</td>\n",
       "      <td>2</td>\n",
       "    </tr>\n",
       "    <tr>\n",
       "      <th>1</th>\n",
       "      <td>10.34</td>\n",
       "      <td>1.66</td>\n",
       "      <td>Male</td>\n",
       "      <td>No</td>\n",
       "      <td>Sun</td>\n",
       "      <td>Dinner</td>\n",
       "      <td>3</td>\n",
       "    </tr>\n",
       "    <tr>\n",
       "      <th>2</th>\n",
       "      <td>21.01</td>\n",
       "      <td>3.50</td>\n",
       "      <td>Male</td>\n",
       "      <td>No</td>\n",
       "      <td>Sun</td>\n",
       "      <td>Dinner</td>\n",
       "      <td>3</td>\n",
       "    </tr>\n",
       "    <tr>\n",
       "      <th>3</th>\n",
       "      <td>23.68</td>\n",
       "      <td>3.31</td>\n",
       "      <td>Male</td>\n",
       "      <td>No</td>\n",
       "      <td>Sun</td>\n",
       "      <td>Dinner</td>\n",
       "      <td>2</td>\n",
       "    </tr>\n",
       "    <tr>\n",
       "      <th>4</th>\n",
       "      <td>24.59</td>\n",
       "      <td>3.61</td>\n",
       "      <td>Female</td>\n",
       "      <td>No</td>\n",
       "      <td>Sun</td>\n",
       "      <td>Dinner</td>\n",
       "      <td>4</td>\n",
       "    </tr>\n",
       "  </tbody>\n",
       "</table>\n",
       "</div>"
      ],
      "text/plain": [
       "   total_bill   tip     sex smoker  day    time  size\n",
       "0       16.99  1.01  Female     No  Sun  Dinner     2\n",
       "1       10.34  1.66    Male     No  Sun  Dinner     3\n",
       "2       21.01  3.50    Male     No  Sun  Dinner     3\n",
       "3       23.68  3.31    Male     No  Sun  Dinner     2\n",
       "4       24.59  3.61  Female     No  Sun  Dinner     4"
      ]
     },
     "execution_count": 56,
     "metadata": {},
     "output_type": "execute_result"
    }
   ],
   "source": [
    "tips.head()"
   ]
  },
  {
   "cell_type": "code",
   "execution_count": 57,
   "metadata": {},
   "outputs": [
    {
     "name": "stdout",
     "output_type": "stream",
     "text": [
      "<class 'pandas.core.frame.DataFrame'>\n",
      "RangeIndex: 244 entries, 0 to 243\n",
      "Data columns (total 7 columns):\n",
      " #   Column      Non-Null Count  Dtype   \n",
      "---  ------      --------------  -----   \n",
      " 0   total_bill  244 non-null    float64 \n",
      " 1   tip         244 non-null    float64 \n",
      " 2   sex         244 non-null    category\n",
      " 3   smoker      244 non-null    category\n",
      " 4   day         244 non-null    category\n",
      " 5   time        244 non-null    category\n",
      " 6   size        244 non-null    int64   \n",
      "dtypes: category(4), float64(2), int64(1)\n",
      "memory usage: 7.4 KB\n"
     ]
    }
   ],
   "source": [
    "tips.info()"
   ]
  },
  {
   "cell_type": "code",
   "execution_count": 58,
   "metadata": {},
   "outputs": [
    {
     "data": {
      "text/plain": [
       "(244, 7)"
      ]
     },
     "execution_count": 58,
     "metadata": {},
     "output_type": "execute_result"
    }
   ],
   "source": [
    "tips.shape"
   ]
  },
  {
   "cell_type": "code",
   "execution_count": 60,
   "metadata": {},
   "outputs": [
    {
     "data": {
      "text/plain": [
       "Index(['total_bill', 'tip', 'sex', 'smoker', 'day', 'time', 'size'], dtype='object')"
      ]
     },
     "execution_count": 60,
     "metadata": {},
     "output_type": "execute_result"
    }
   ],
   "source": [
    "tips.columns"
   ]
  },
  {
   "cell_type": "code",
   "execution_count": null,
   "metadata": {},
   "outputs": [],
   "source": [
    "# Chi square test is performed on categorical data"
   ]
  },
  {
   "cell_type": "code",
   "execution_count": 61,
   "metadata": {},
   "outputs": [
    {
     "data": {
      "text/html": [
       "<div>\n",
       "<style scoped>\n",
       "    .dataframe tbody tr th:only-of-type {\n",
       "        vertical-align: middle;\n",
       "    }\n",
       "\n",
       "    .dataframe tbody tr th {\n",
       "        vertical-align: top;\n",
       "    }\n",
       "\n",
       "    .dataframe thead th {\n",
       "        text-align: right;\n",
       "    }\n",
       "</style>\n",
       "<table border=\"1\" class=\"dataframe\">\n",
       "  <thead>\n",
       "    <tr style=\"text-align: right;\">\n",
       "      <th></th>\n",
       "      <th>total_bill</th>\n",
       "      <th>tip</th>\n",
       "      <th>sex</th>\n",
       "      <th>smoker</th>\n",
       "      <th>day</th>\n",
       "      <th>time</th>\n",
       "      <th>size</th>\n",
       "    </tr>\n",
       "  </thead>\n",
       "  <tbody>\n",
       "    <tr>\n",
       "      <th>0</th>\n",
       "      <td>16.99</td>\n",
       "      <td>1.01</td>\n",
       "      <td>Female</td>\n",
       "      <td>No</td>\n",
       "      <td>Sun</td>\n",
       "      <td>Dinner</td>\n",
       "      <td>2</td>\n",
       "    </tr>\n",
       "    <tr>\n",
       "      <th>1</th>\n",
       "      <td>10.34</td>\n",
       "      <td>1.66</td>\n",
       "      <td>Male</td>\n",
       "      <td>No</td>\n",
       "      <td>Sun</td>\n",
       "      <td>Dinner</td>\n",
       "      <td>3</td>\n",
       "    </tr>\n",
       "    <tr>\n",
       "      <th>2</th>\n",
       "      <td>21.01</td>\n",
       "      <td>3.50</td>\n",
       "      <td>Male</td>\n",
       "      <td>No</td>\n",
       "      <td>Sun</td>\n",
       "      <td>Dinner</td>\n",
       "      <td>3</td>\n",
       "    </tr>\n",
       "    <tr>\n",
       "      <th>3</th>\n",
       "      <td>23.68</td>\n",
       "      <td>3.31</td>\n",
       "      <td>Male</td>\n",
       "      <td>No</td>\n",
       "      <td>Sun</td>\n",
       "      <td>Dinner</td>\n",
       "      <td>2</td>\n",
       "    </tr>\n",
       "    <tr>\n",
       "      <th>4</th>\n",
       "      <td>24.59</td>\n",
       "      <td>3.61</td>\n",
       "      <td>Female</td>\n",
       "      <td>No</td>\n",
       "      <td>Sun</td>\n",
       "      <td>Dinner</td>\n",
       "      <td>4</td>\n",
       "    </tr>\n",
       "  </tbody>\n",
       "</table>\n",
       "</div>"
      ],
      "text/plain": [
       "   total_bill   tip     sex smoker  day    time  size\n",
       "0       16.99  1.01  Female     No  Sun  Dinner     2\n",
       "1       10.34  1.66    Male     No  Sun  Dinner     3\n",
       "2       21.01  3.50    Male     No  Sun  Dinner     3\n",
       "3       23.68  3.31    Male     No  Sun  Dinner     2\n",
       "4       24.59  3.61  Female     No  Sun  Dinner     4"
      ]
     },
     "execution_count": 61,
     "metadata": {},
     "output_type": "execute_result"
    }
   ],
   "source": [
    "tips.head()"
   ]
  },
  {
   "cell_type": "code",
   "execution_count": 66,
   "metadata": {},
   "outputs": [],
   "source": [
    "tips_cat = tips.iloc[:, 2:4]"
   ]
  },
  {
   "cell_type": "code",
   "execution_count": 67,
   "metadata": {},
   "outputs": [
    {
     "data": {
      "text/html": [
       "<div>\n",
       "<style scoped>\n",
       "    .dataframe tbody tr th:only-of-type {\n",
       "        vertical-align: middle;\n",
       "    }\n",
       "\n",
       "    .dataframe tbody tr th {\n",
       "        vertical-align: top;\n",
       "    }\n",
       "\n",
       "    .dataframe thead th {\n",
       "        text-align: right;\n",
       "    }\n",
       "</style>\n",
       "<table border=\"1\" class=\"dataframe\">\n",
       "  <thead>\n",
       "    <tr style=\"text-align: right;\">\n",
       "      <th></th>\n",
       "      <th>sex</th>\n",
       "      <th>smoker</th>\n",
       "    </tr>\n",
       "  </thead>\n",
       "  <tbody>\n",
       "    <tr>\n",
       "      <th>0</th>\n",
       "      <td>Female</td>\n",
       "      <td>No</td>\n",
       "    </tr>\n",
       "    <tr>\n",
       "      <th>1</th>\n",
       "      <td>Male</td>\n",
       "      <td>No</td>\n",
       "    </tr>\n",
       "    <tr>\n",
       "      <th>2</th>\n",
       "      <td>Male</td>\n",
       "      <td>No</td>\n",
       "    </tr>\n",
       "    <tr>\n",
       "      <th>3</th>\n",
       "      <td>Male</td>\n",
       "      <td>No</td>\n",
       "    </tr>\n",
       "    <tr>\n",
       "      <th>4</th>\n",
       "      <td>Female</td>\n",
       "      <td>No</td>\n",
       "    </tr>\n",
       "  </tbody>\n",
       "</table>\n",
       "</div>"
      ],
      "text/plain": [
       "      sex smoker\n",
       "0  Female     No\n",
       "1    Male     No\n",
       "2    Male     No\n",
       "3    Male     No\n",
       "4  Female     No"
      ]
     },
     "execution_count": 67,
     "metadata": {},
     "output_type": "execute_result"
    }
   ],
   "source": [
    "tips_cat.head()"
   ]
  },
  {
   "cell_type": "code",
   "execution_count": 69,
   "metadata": {},
   "outputs": [],
   "source": [
    "import pandas as pd\n",
    "tips_table = pd.crosstab(tips_cat['sex'], tips_cat['smoker'])"
   ]
  },
  {
   "cell_type": "code",
   "execution_count": 70,
   "metadata": {},
   "outputs": [
    {
     "data": {
      "text/html": [
       "<div>\n",
       "<style scoped>\n",
       "    .dataframe tbody tr th:only-of-type {\n",
       "        vertical-align: middle;\n",
       "    }\n",
       "\n",
       "    .dataframe tbody tr th {\n",
       "        vertical-align: top;\n",
       "    }\n",
       "\n",
       "    .dataframe thead th {\n",
       "        text-align: right;\n",
       "    }\n",
       "</style>\n",
       "<table border=\"1\" class=\"dataframe\">\n",
       "  <thead>\n",
       "    <tr style=\"text-align: right;\">\n",
       "      <th>smoker</th>\n",
       "      <th>Yes</th>\n",
       "      <th>No</th>\n",
       "    </tr>\n",
       "    <tr>\n",
       "      <th>sex</th>\n",
       "      <th></th>\n",
       "      <th></th>\n",
       "    </tr>\n",
       "  </thead>\n",
       "  <tbody>\n",
       "    <tr>\n",
       "      <th>Male</th>\n",
       "      <td>60</td>\n",
       "      <td>97</td>\n",
       "    </tr>\n",
       "    <tr>\n",
       "      <th>Female</th>\n",
       "      <td>33</td>\n",
       "      <td>54</td>\n",
       "    </tr>\n",
       "  </tbody>\n",
       "</table>\n",
       "</div>"
      ],
      "text/plain": [
       "smoker  Yes  No\n",
       "sex            \n",
       "Male     60  97\n",
       "Female   33  54"
      ]
     },
     "execution_count": 70,
     "metadata": {},
     "output_type": "execute_result"
    }
   ],
   "source": [
    "tips_table"
   ]
  },
  {
   "cell_type": "code",
   "execution_count": 74,
   "metadata": {},
   "outputs": [
    {
     "data": {
      "text/plain": [
       "array([[60, 97],\n",
       "       [33, 54]], dtype=int64)"
      ]
     },
     "execution_count": 74,
     "metadata": {},
     "output_type": "execute_result"
    }
   ],
   "source": [
    "tips_array = tips_table.values\n",
    "tips_array"
   ]
  },
  {
   "cell_type": "code",
   "execution_count": 77,
   "metadata": {},
   "outputs": [],
   "source": [
    "import scipy.stats as stats\n",
    "statistic_test, p_value, dof, expected_values = stats.chi2_contingency(tips_array)"
   ]
  },
  {
   "cell_type": "code",
   "execution_count": 80,
   "metadata": {},
   "outputs": [
    {
     "data": {
      "text/plain": [
       "array([0.00119737, 0.00073745])"
      ]
     },
     "execution_count": 80,
     "metadata": {},
     "output_type": "execute_result"
    }
   ],
   "source": [
    "from scipy.stats import chi2\n",
    "chi_square_value = sum([(o-e)**2/e for o,e in zip(tips_array, expected_values)])\n",
    "chi_square_value\n"
   ]
  },
  {
   "cell_type": "code",
   "execution_count": 83,
   "metadata": {},
   "outputs": [
    {
     "data": {
      "text/plain": [
       "0.001934818536627623"
      ]
     },
     "execution_count": 83,
     "metadata": {},
     "output_type": "execute_result"
    }
   ],
   "source": [
    "chisqurestat = chi_square_value[0] + chi_square_value[1]\n",
    "chisqurestat"
   ]
  },
  {
   "cell_type": "code",
   "execution_count": 84,
   "metadata": {},
   "outputs": [],
   "source": [
    "alpha = 0.5\n",
    "c_i = 0.95\n",
    "critical_value = chi2.ppf(c_i, dof)"
   ]
  },
  {
   "cell_type": "code",
   "execution_count": 85,
   "metadata": {},
   "outputs": [
    {
     "name": "stdout",
     "output_type": "stream",
     "text": [
      "fail to reject the null hypothesis\n"
     ]
    }
   ],
   "source": [
    "if chisqurestat >= critical_value:\n",
    "     print('reject the null hypothesis')\n",
    "else:\n",
    "     print('fail to reject the null hypothesis')"
   ]
  }
 ],
 "metadata": {
  "kernelspec": {
   "display_name": "Python 3",
   "language": "python",
   "name": "python3"
  },
  "language_info": {
   "codemirror_mode": {
    "name": "ipython",
    "version": 3
   },
   "file_extension": ".py",
   "mimetype": "text/x-python",
   "name": "python",
   "nbconvert_exporter": "python",
   "pygments_lexer": "ipython3",
   "version": "3.8.0"
  }
 },
 "nbformat": 4,
 "nbformat_minor": 2
}
